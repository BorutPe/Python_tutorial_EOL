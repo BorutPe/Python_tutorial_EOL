{
 "cells": [
  {
   "cell_type": "markdown",
   "metadata": {},
   "source": [
    "# Git (and GitHub) workflow"
   ]
  },
  {
   "cell_type": "markdown",
   "metadata": {
    "slideshow": {
     "slide_type": "subslide"
    }
   },
   "source": [
    "**What is GitHub?**\n",
    "\n",
    "[GitHub](https://github.com/) is an online hosting platform for collaborative software projects using the [Git version control system](https://git-scm.com/)."
   ]
  },
  {
   "cell_type": "markdown",
   "metadata": {
    "slideshow": {
     "slide_type": "subslide"
    }
   },
   "source": [
    "**What is Git?**\n",
    "\n",
    "[Git](https://git-scm.com/docs/user-manual.html) is a free and open source distributed version control system.\n"
   ]
  },
  {
   "cell_type": "markdown",
   "metadata": {
    "slideshow": {
     "slide_type": "fragment"
    }
   },
   "source": [
    "**Why use git:**\n",
    "* *Working on a project alone* - easily control the differenct versions (releases) of your code.\n",
    "* *Working in a team* - merge the changes made by collaborators into a central code repository."
   ]
  },
  {
   "cell_type": "markdown",
   "metadata": {
    "slideshow": {
     "slide_type": "slide"
    }
   },
   "source": [
    "# Working with repositories\n",
    "To create a new repository on GitHub:\n",
    "* Go to https://github.com/ (or other hosting platform) and sign in\n",
    "* Click `New`\n",
    "* Done!"
   ]
  },
  {
   "cell_type": "markdown",
   "metadata": {
    "slideshow": {
     "slide_type": "subslide"
    }
   },
   "source": [
    "## Git interface\n",
    "\n",
    "There are many ways to work with git repositories. The most basic one is to use **Git Bash** (command line). \n",
    "\n",
    "However, there are also many GUIs (graphical user interfaces) that make working with git easier:\n",
    "* [GitHub Desktop](https://desktop.github.com/)\n",
    "* [VS Code](https://code.visualstudio.com/)\n",
    "* [GitKraken](https://www.gitkraken.com/)\n",
    "* [SourceTree](https://www.sourcetreeapp.com/)\n",
    "* ..."
   ]
  },
  {
   "cell_type": "markdown",
   "metadata": {},
   "source": [
    "All theese tools support the standard git operations, described in this document. "
   ]
  },
  {
   "cell_type": "markdown",
   "metadata": {
    "slideshow": {
     "slide_type": "subslide"
    }
   },
   "source": [
    "## Clone"
   ]
  },
  {
   "cell_type": "markdown",
   "metadata": {
    "slideshow": {
     "slide_type": "-"
    }
   },
   "source": [
    "If we want to work on the project locally, from our computer, we have to **clone** the repository:\n",
    "* Open the `Git Bash` in the desired directory\n",
    "* Copy the `Clone or download` link of the repository\n",
    "* Write: `git clone <link>`\n",
    "* Done!"
   ]
  },
  {
   "cell_type": "markdown",
   "metadata": {},
   "source": [
    "## Remote\n",
    "\n",
    "Remotes are the online repositories that your local project is set up to track.\n",
    "\n",
    "When you `clone` an online repository, it is automatically added as a remote (named `origin`) to the created local project. "
   ]
  },
  {
   "cell_type": "markdown",
   "metadata": {
    "slideshow": {
     "slide_type": "subslide"
    }
   },
   "source": [
    "## Branches\n",
    "\n",
    "[Branches](https://docs.github.com/en/pull-requests/collaborating-with-pull-requests/proposing-changes-to-your-work-with-pull-requests/about-branches) are used to develop features isolated from each other. \n",
    "\n",
    "The master branch (or main) is the \"default\" branch when you create a repository. \n",
    "Create other branches when working on a new feature and merge them back to the master branch upon completion.\n",
    "\n",
    "\n",
    "A new branch named `feature_name` can be created using the following command:\n",
    "\n",
    "`git checkout -b feature_name`"
   ]
  },
  {
   "cell_type": "markdown",
   "metadata": {},
   "source": [
    "## Making changes to the local repository\n",
    "To make changes, enter the cloned repository and start working!"
   ]
  },
  {
   "cell_type": "markdown",
   "metadata": {
    "slideshow": {
     "slide_type": "subslide"
    }
   },
   "source": [
    "## Add, commit, push, pull"
   ]
  },
  {
   "cell_type": "markdown",
   "metadata": {
    "slideshow": {
     "slide_type": "-"
    }
   },
   "source": [
    "To record the changes made to the repository, we have to **add** them to the *staging area* (changes, ready to be committed to version history) and **commit** them:\n",
    "\n",
    "* `git add <file>`\n",
    "* `git commit -m \"A description of what I did in this commit\"`"
   ]
  },
  {
   "cell_type": "markdown",
   "metadata": {
    "slideshow": {
     "slide_type": "subslide"
    }
   },
   "source": [
    "To upload the changes to the set-up GitHub repository called `remote`, into a branch named `feature_name`, we have to **push** them:\n",
    "* `git push remote feature_name`\n",
    "\n",
    "To download the changes made by other collaborators and merge them with our local commits, we have to **pull** them:\n",
    "* `git pull`"
   ]
  },
  {
   "cell_type": "markdown",
   "metadata": {
    "slideshow": {
     "slide_type": "subslide"
    }
   },
   "source": [
    "## Pull requests\n",
    "\n",
    "Once the developer is happy with the changes, they can create a [**pull request**](https://docs.github.com/en/pull-requests/collaborating-with-pull-requests/proposing-changes-to-your-work-with-pull-requests/about-pull-requests).\n",
    "\n",
    "> \"Pull requests let you tell others about changes you've pushed to a branch in a repository on GitHub.\""
   ]
  },
  {
   "cell_type": "markdown",
   "metadata": {
    "slideshow": {
     "slide_type": "subslide"
    }
   },
   "source": [
    "## Issues\n",
    "\n",
    "Issues are used to track ideas, enhancements, tasks, or bugs for work on a hosting platform, e.g. on [Github](https://docs.github.com/en/issues/tracking-your-work-with-issues/about-issues).\n",
    "\n",
    "The issues can be assigned to collaborators, labeled, and closed with a commit.\n",
    "Comments can be added to the issues to discuss the topic."
   ]
  },
  {
   "cell_type": "markdown",
   "metadata": {
    "slideshow": {
     "slide_type": "subslide"
    }
   },
   "source": [
    "## Forks\n",
    "\n",
    "A [fork](https://docs.github.com/en/pull-requests/collaborating-with-pull-requests/working-with-forks/about-forks) is your own copy of an existing GitHub repository. \n",
    "\n",
    "They allow you to freely experiment with changes without affecting the original project.\n",
    "Once you are happy with the changes, you can create a pull request to merge them back into the original project."
   ]
  },
  {
   "cell_type": "markdown",
   "metadata": {
    "slideshow": {
     "slide_type": "subslide"
    }
   },
   "source": [
    "## Typical workflow\n",
    "\n",
    "1. Select a repository to work on.\n",
    "1. (Optionally) select an **issue** to work on.\n",
    "1. **Fork** the repository.\n",
    "1. **Clone** the repository to your computer.\n",
    "1. Create a new **branch**.\n",
    "1. Make changes to the code.\n",
    "1. **Commit** and **push** the changes to the forked repository.\n",
    "1. Create a **pull request** to merge the changes into the original repository.\n",
    "\n",
    "Once the pull request is accepted, you can delete the branch and start working on a new issue!\n"
   ]
  }
 ],
 "metadata": {
  "celltoolbar": "Slideshow",
  "kernelspec": {
   "display_name": "Python 3 (ipykernel)",
   "language": "python",
   "name": "python3"
  },
  "language_info": {
   "codemirror_mode": {
    "name": "ipython",
    "version": 3
   },
   "file_extension": ".py",
   "mimetype": "text/x-python",
   "name": "python",
   "nbconvert_exporter": "python",
   "pygments_lexer": "ipython3",
   "version": "3.11.2"
  },
  "toc": {
   "base_numbering": 1,
   "nav_menu": {},
   "number_sections": true,
   "sideBar": true,
   "skip_h1_title": false,
   "title_cell": "Kazalo",
   "title_sidebar": "Kazalo",
   "toc_cell": false,
   "toc_position": {},
   "toc_section_display": true,
   "toc_window_display": false
  }
 },
 "nbformat": 4,
 "nbformat_minor": 2
}
