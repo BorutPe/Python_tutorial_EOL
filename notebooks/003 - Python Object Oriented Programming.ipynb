{
 "cells": [
  {
   "cell_type": "markdown",
   "metadata": {},
   "source": [
    "# Object Oriented Programming"
   ]
  },
  {
   "cell_type": "markdown",
   "metadata": {},
   "source": [
    "## Class"
   ]
  },
  {
   "cell_type": "markdown",
   "metadata": {},
   "source": [
    "[Object-oriented programming](https://en.wikipedia.org/wiki/Object-oriented_programming) is an important programming paradigm, utilized by the majority of modern programming languages. \n",
    "\n",
    "Objects are structures that can hold:\n",
    "- **data** (variables contained in an object are called **attributes**) and \n",
    "- **code** (functions contained in an object are called **methods**)."
   ]
  },
  {
   "cell_type": "markdown",
   "metadata": {},
   "source": [
    "Python is an *object-oriented* programming language. In fact, in Python, everything is an object.\n",
    "\n",
    "For example, a numpy array is an object. It has attributes (e.g., `shape`) and methods (e.g., `mean()`):"
   ]
  },
  {
   "cell_type": "code",
   "execution_count": 1,
   "metadata": {},
   "outputs": [],
   "source": [
    "import numpy as np"
   ]
  },
  {
   "cell_type": "code",
   "execution_count": 2,
   "metadata": {},
   "outputs": [],
   "source": [
    "a = np.random.rand(10)  # create a random array of 10 elements"
   ]
  },
  {
   "cell_type": "code",
   "execution_count": 3,
   "metadata": {},
   "outputs": [
    {
     "data": {
      "text/plain": [
       "(10,)"
      ]
     },
     "execution_count": 3,
     "metadata": {},
     "output_type": "execute_result"
    }
   ],
   "source": [
    "# returns the shape of the array. This is an attribute of the array object.\n",
    "a.shape"
   ]
  },
  {
   "cell_type": "code",
   "execution_count": 4,
   "metadata": {},
   "outputs": [
    {
     "data": {
      "text/plain": [
       "0.3982166423062933"
      ]
     },
     "execution_count": 4,
     "metadata": {},
     "output_type": "execute_result"
    }
   ],
   "source": [
    "# returns the mean of the array. This is a method of the array object.\n",
    "a.mean()"
   ]
  },
  {
   "cell_type": "markdown",
   "metadata": {},
   "source": [
    "## Defining a Class"
   ]
  },
  {
   "cell_type": "markdown",
   "metadata": {},
   "source": [
    "If we are not satisfied with the features of this existing image object, we can define our own!\n",
    "\n",
    "A Python object structure is defined by a `class`:"
   ]
  },
  {
   "cell_type": "code",
   "execution_count": 5,
   "metadata": {},
   "outputs": [],
   "source": [
    "class Machine:\n",
    "    \"\"\"\n",
    "    A class to represent a machine.\n",
    "    \"\"\"\n",
    "\n",
    "    def __init__(self, name: str, type: str, capacity: int | float):\n",
    "        \"\"\"\n",
    "        Constructs all the necessary attributes for the Machine object.\n",
    "\n",
    "        Parameters\n",
    "        ----------\n",
    "        name : str\n",
    "            The name of the machine.\n",
    "        type : str\n",
    "            The type or category of the machine.\n",
    "        capacity : int or float\n",
    "            The maximum capacity of the machine.\n",
    "        \"\"\"\n",
    "\n",
    "        self.name = name\n",
    "        self.type = type\n",
    "        self.capacity = capacity\n",
    "\n",
    "    def display_info(self):\n",
    "        \"\"\"\n",
    "        Display the information of the machine including its name, type, and capacity.\n",
    "        \"\"\"\n",
    "        print(f\"Machine Name: {self.name}\")\n",
    "        print(f\"Machine Type: {self.type}\")\n",
    "        print(f\"Capacity: {self.capacity}\")\n",
    "\n",
    "    def update_capacity(self, new_capacity: int | float):\n",
    "        \"\"\"\n",
    "        Update the capacity of the machine.\n",
    "\n",
    "        Parameters\n",
    "        ----------\n",
    "        new_capacity : int or float\n",
    "            The new capacity to be set for the machine.\n",
    "        \"\"\"\n",
    "\n",
    "        self.capacity = new_capacity\n",
    "        print(\n",
    "            f\"The capacity of {self.name} has been updated to {new_capacity}.\")\n",
    "\n",
    "    def operate(self):\n",
    "        \"\"\"\n",
    "        Operate the machine.\n",
    "        \"\"\"\n",
    "        print(f\"The {self.name} is operating.\")"
   ]
  },
  {
   "cell_type": "markdown",
   "metadata": {},
   "source": [
    "Here is the usage of our new class:"
   ]
  },
  {
   "cell_type": "code",
   "execution_count": 6,
   "metadata": {},
   "outputs": [
    {
     "name": "stdout",
     "output_type": "stream",
     "text": [
      "Machine Name: Excavator\n",
      "Machine Type: Construction\n",
      "Capacity: 50\n"
     ]
    }
   ],
   "source": [
    "# Creating an object of Machine class\n",
    "my_machine = Machine(\"Excavator\", \"Construction\", 50)\n",
    "\n",
    "# Displaying information of my_machine\n",
    "my_machine.display_info()"
   ]
  },
  {
   "cell_type": "code",
   "execution_count": 7,
   "metadata": {},
   "outputs": [
    {
     "name": "stdout",
     "output_type": "stream",
     "text": [
      "The capacity of Excavator has been updated to 60.\n"
     ]
    }
   ],
   "source": [
    "# Updating the capacity of my_machine\n",
    "my_machine.update_capacity(60)"
   ]
  },
  {
   "cell_type": "markdown",
   "metadata": {},
   "source": [
    "Two important components of each class are the `__init__` method and the `self` parameter.\n",
    "\n",
    "- `self`: The `self` parameter is a reference to the current instance of the class and is used to access variables and methods associated with that instance. It does not have to be named `self`, but it is a convention in Python.\n",
    "\n",
    "- `__init__`: The `__init__` method is a special method called a constructor, which gets called when the object is instantiated. It is used to initialize the attributes of the class. In the Machine class above, the `__init__` method initializes the name, type, and capacity attributes with values passed when creating a new Machine object."
   ]
  },
  {
   "cell_type": "markdown",
   "metadata": {},
   "source": [
    "## Inheritance"
   ]
  },
  {
   "cell_type": "markdown",
   "metadata": {},
   "source": [
    "Inheritance is a fundamental concept in object-oriented programming where a class (the \"subclass\") inherits attributes and methods from another class (the \"parent\" or \"superclass\")."
   ]
  },
  {
   "cell_type": "markdown",
   "metadata": {},
   "source": [
    "Key properties of inheritance include:\n",
    "\n",
    "**Reuse of Code:**\n",
    "\n",
    "- It promotes the reuse of code, as the subclass can utilize the existing code of the superclass. This leads to a more organized, efficient, and manageable codebase.\n",
    "\n",
    "**Extension and Modification:**\n",
    "\n",
    "- Subclasses can extend or modify the behaviors and properties inherited from the superclass. This can be done by adding new methods and attributes or overriding inherited methods.\n",
    "\n",
    "**`super()` Function:**\n",
    "\n",
    "- The `super()` function allows the subclass to invoke a method from the superclass, ensuring that the inherited method can be executed even if the subclass overrides it.\n",
    "\n",
    "**Method Overriding:**\n",
    "\n",
    "- A subclass can provide a specific implementation of a method that is already defined in its superclass. This process, known as method overriding, allows the subclass to inherit methods but customize them as needed.\n",
    "\n",
    "**Hierarchical Inheritance:**\n",
    "\n",
    "- Python supports hierarchical inheritance, where a subclass can be further subclassed, leading to a hierarchy of classes that inherit properties and behaviors from their ancestors.\n",
    "\n",
    "**Polymorphism:**\n",
    "\n",
    "- Inheritance plays a crucial role in enabling polymorphism, where different subclasses can be treated as instances of the same class through their common interface.\n",
    "\n",
    "**Encapsulation:**\n",
    "\n",
    "- Inheritance supports encapsulation by allowing subclasses to build upon the attributes and methods of superclasses while encapsulating specific behaviors and properties."
   ]
  },
  {
   "cell_type": "markdown",
   "metadata": {},
   "source": [
    "Lets see an example of inheritance in action:"
   ]
  },
  {
   "cell_type": "code",
   "execution_count": 8,
   "metadata": {},
   "outputs": [],
   "source": [
    "class Excavator(Machine):\n",
    "    \"\"\"\n",
    "    A class to represent an excavator, derived from the Machine class.\n",
    "    \"\"\"\n",
    "\n",
    "    def __init__(self, name, capacity, dig_depth):\n",
    "        \"\"\"\n",
    "        Constructs all the necessary attributes for the Excavator object.\n",
    "\n",
    "        Parameters\n",
    "        ----------\n",
    "        name : str\n",
    "            The name of the excavator.\n",
    "        capacity : int or float\n",
    "            The maximum capacity of the excavator.\n",
    "        dig_depth : int or float\n",
    "            The maximum depth the excavator can dig.\n",
    "        \"\"\"\n",
    "\n",
    "        super().__init__(\n",
    "            name, \"Excavator\", capacity\n",
    "        )  # Call the __init__ method of the parent class\n",
    "        self.dig_depth = dig_depth\n",
    "\n",
    "    def operate(self):\n",
    "        \"\"\"\n",
    "        Operate the excavator. Overrides the operate method of the parent class.\n",
    "        \"\"\"\n",
    "        print(\n",
    "            f\"The {self.name} is operating with a maximum dig depth of {self.dig_depth} meters.\"\n",
    "        )\n",
    "\n",
    "    def dig(self):\n",
    "        \"\"\"\n",
    "        Perform digging operation with the excavator.\n",
    "        \"\"\"\n",
    "        print(f\"{self.name} is digging.\")"
   ]
  },
  {
   "cell_type": "markdown",
   "metadata": {},
   "source": [
    "The Excavator class inherits from the `Machine` class, meaning it has all the attributes and methods of `Machine`, but it can also have additional attributes and methods, or override the inherited methods.\n",
    "\n",
    "**Overriding a Method:**\n",
    "\n",
    "- The `operate()` method in the `Excavator` class overrides the `operate()` method in the `Machine` class. This means when `operate()` is called on an `Excavator` object, the `operate()` method from `Excavator` class is executed, not the one from `Machine`.\n",
    "\n",
    "**Adding a Method:**\n",
    "\n",
    "- The `dig()` method is a new method added to the `Excavator` class that is not present in the `Machine` class. This demonstrates that subclasses can have additional methods.\n",
    "\n",
    "**Using `super()`:**\n",
    "\n",
    "- The `super()` function is used to call the `__init__()` method of the parent class. This allows us to initialize the attributes of the parent class while adding new attributes specific to the subclass."
   ]
  },
  {
   "cell_type": "markdown",
   "metadata": {},
   "source": [
    "Example usage of the `Excavator` class:"
   ]
  },
  {
   "cell_type": "code",
   "execution_count": 9,
   "metadata": {},
   "outputs": [
    {
     "name": "stdout",
     "output_type": "stream",
     "text": [
      "Machine Name: CAT 320\n",
      "Machine Type: Excavator\n",
      "Capacity: 50\n",
      "The CAT 320 is operating with a maximum dig depth of 5 meters.\n",
      "CAT 320 is digging.\n",
      "The capacity of CAT 320 has been updated to 60.\n"
     ]
    }
   ],
   "source": [
    "# Creating an Excavator object\n",
    "my_excavator = Excavator(\"CAT 320\", 50, 5)\n",
    "\n",
    "# Displaying information of my_excavator\n",
    "my_excavator.display_info()\n",
    "\n",
    "# Operating my_excavator\n",
    "my_excavator.operate()\n",
    "\n",
    "# Digging with my_excavator\n",
    "my_excavator.dig()\n",
    "\n",
    "# Updating the capacity of my_excavator\n",
    "my_excavator.update_capacity(60)"
   ]
  },
  {
   "cell_type": "code",
   "execution_count": null,
   "metadata": {},
   "outputs": [],
   "source": []
  }
 ],
 "metadata": {
  "kernelspec": {
   "display_name": "venv",
   "language": "python",
   "name": "python3"
  },
  "language_info": {
   "codemirror_mode": {
    "name": "ipython",
    "version": 3
   },
   "file_extension": ".py",
   "mimetype": "text/x-python",
   "name": "python",
   "nbconvert_exporter": "python",
   "pygments_lexer": "ipython3",
   "version": "3.11.2"
  }
 },
 "nbformat": 4,
 "nbformat_minor": 2
}
