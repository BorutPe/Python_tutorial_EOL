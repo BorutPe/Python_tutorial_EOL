{
 "cells": [
  {
   "cell_type": "markdown",
   "metadata": {},
   "source": [
    "# Basic data types and operators"
   ]
  },
  {
   "cell_type": "markdown",
   "metadata": {},
   "source": [
    "## Numbers"
   ]
  },
  {
   "cell_type": "markdown",
   "metadata": {},
   "source": [
    "Numerical data is in pure Python usually represented by the `int`, `float` or `complex` data types:"
   ]
  },
  {
   "cell_type": "code",
   "execution_count": null,
   "metadata": {},
   "outputs": [],
   "source": [
    "m = 1 # kg\n",
    "print(type(m))"
   ]
  },
  {
   "cell_type": "code",
   "execution_count": null,
   "metadata": {},
   "outputs": [],
   "source": [
    "g = 10 # m/s^2\n",
    "print(type(g))"
   ]
  },
  {
   "cell_type": "code",
   "execution_count": null,
   "metadata": {},
   "outputs": [],
   "source": [
    "F = m*g\n",
    "print(type(F))"
   ]
  },
  {
   "cell_type": "markdown",
   "metadata": {},
   "source": [
    "Python is dynamically typed - a variable's type is determined at run-time:"
   ]
  },
  {
   "cell_type": "code",
   "execution_count": null,
   "metadata": {},
   "outputs": [],
   "source": [
    "g = 9.81 # m/s^2\n",
    "print(type(g))\n",
    "F = m*g\n",
    "print(type(F))"
   ]
  },
  {
   "cell_type": "markdown",
   "metadata": {},
   "source": [
    "**Arithmetic operators:**\n",
    "\n",
    "* `+` addition\n",
    "* `-` subtraction\n",
    "* `*` multiplication\n",
    "* `/` division\n",
    "* `//` integer (floor) division\n",
    "* `**` exponent\n",
    "* `%` modulus operator (remainder in integer devision)"
   ]
  },
  {
   "cell_type": "code",
   "execution_count": null,
   "metadata": {},
   "outputs": [],
   "source": [
    "F / m"
   ]
  },
  {
   "cell_type": "code",
   "execution_count": null,
   "metadata": {},
   "outputs": [],
   "source": [
    "F // m"
   ]
  },
  {
   "cell_type": "code",
   "execution_count": null,
   "metadata": {},
   "outputs": [],
   "source": [
    "F % m"
   ]
  },
  {
   "cell_type": "code",
   "execution_count": null,
   "metadata": {},
   "outputs": [],
   "source": [
    "v = 10 # m/s\n",
    "m * v**2 / 2"
   ]
  },
  {
   "cell_type": "markdown",
   "metadata": {},
   "source": [
    "**In-place operations:**\n",
    "\n",
    "* `+=` in-place addition\n",
    "* `-=` in-place subtraction\n",
    "* `*=` in-place multiplication\n",
    "* `/=` in-place division\n",
    "* ..."
   ]
  },
  {
   "cell_type": "code",
   "execution_count": null,
   "metadata": {},
   "outputs": [],
   "source": [
    "print(m)\n",
    "m *= 2\n",
    "print(m)"
   ]
  },
  {
   "cell_type": "markdown",
   "metadata": {},
   "source": [
    "**Boolean values** `True` and `False` behave like integers `1` and `0` in numeric operations:"
   ]
  },
  {
   "cell_type": "code",
   "execution_count": null,
   "metadata": {},
   "outputs": [],
   "source": [
    "True + False + True"
   ]
  },
  {
   "cell_type": "markdown",
   "metadata": {},
   "source": [
    "It also works the other way around:"
   ]
  },
  {
   "cell_type": "code",
   "execution_count": null,
   "metadata": {},
   "outputs": [],
   "source": [
    "bool(0)"
   ]
  },
  {
   "cell_type": "code",
   "execution_count": null,
   "metadata": {},
   "outputs": [],
   "source": [
    "bool(1)"
   ]
  },
  {
   "cell_type": "markdown",
   "metadata": {},
   "source": [
    "In fact, any *non-zero* numeric value represents a `True` value:"
   ]
  },
  {
   "cell_type": "code",
   "execution_count": null,
   "metadata": {},
   "outputs": [],
   "source": [
    "c = 0-2j\n",
    "c"
   ]
  },
  {
   "cell_type": "code",
   "execution_count": null,
   "metadata": {},
   "outputs": [],
   "source": [
    "type(c)"
   ]
  },
  {
   "cell_type": "code",
   "execution_count": null,
   "metadata": {},
   "outputs": [],
   "source": [
    "bool(c)"
   ]
  },
  {
   "cell_type": "markdown",
   "metadata": {},
   "source": [
    "**Logical operators:**\n",
    "\n",
    "* `and`\n",
    "* `or`\n",
    "* `not`"
   ]
  },
  {
   "cell_type": "code",
   "execution_count": null,
   "metadata": {},
   "outputs": [],
   "source": [
    "bool(0 and 1)"
   ]
  },
  {
   "cell_type": "code",
   "execution_count": null,
   "metadata": {},
   "outputs": [],
   "source": [
    "bool(0 or c)"
   ]
  },
  {
   "cell_type": "code",
   "execution_count": null,
   "metadata": {},
   "outputs": [],
   "source": [
    "a = -1\n",
    "bool((0 or c) and not a)"
   ]
  },
  {
   "cell_type": "code",
   "execution_count": null,
   "metadata": {},
   "outputs": [],
   "source": [
    "a = False\n",
    "bool((0 or c) and not a)"
   ]
  },
  {
   "cell_type": "markdown",
   "metadata": {},
   "source": [
    "**Comparisson operators:**\n",
    "\n",
    "* `==` equal\n",
    "* `!=` not equal\n",
    "* `<` less than\n",
    "* `>` greater than\n",
    "* `<=` less than or equal to\n",
    "* `>=` greater than or equal to"
   ]
  },
  {
   "cell_type": "code",
   "execution_count": null,
   "metadata": {},
   "outputs": [],
   "source": [
    "1 > 0.5"
   ]
  },
  {
   "cell_type": "code",
   "execution_count": null,
   "metadata": {},
   "outputs": [],
   "source": [
    "1.0 >= 1"
   ]
  },
  {
   "cell_type": "code",
   "execution_count": null,
   "metadata": {},
   "outputs": [],
   "source": [
    "1.0 != 1"
   ]
  },
  {
   "cell_type": "code",
   "execution_count": null,
   "metadata": {},
   "outputs": [],
   "source": [
    "1.0 == 1"
   ]
  },
  {
   "cell_type": "markdown",
   "metadata": {},
   "source": [
    " \n",
    "**Identity operator:**\n",
    "\n",
    "* `is`"
   ]
  },
  {
   "cell_type": "code",
   "execution_count": null,
   "metadata": {},
   "outputs": [],
   "source": [
    "1.0 is 1"
   ]
  },
  {
   "cell_type": "markdown",
   "metadata": {},
   "source": [
    "---"
   ]
  },
  {
   "cell_type": "markdown",
   "metadata": {},
   "source": [
    "## Lists"
   ]
  },
  {
   "cell_type": "code",
   "execution_count": null,
   "metadata": {},
   "outputs": [],
   "source": [
    "numbers = [1, 2, 3.5, 5-1j]\n",
    "numbers"
   ]
  },
  {
   "cell_type": "markdown",
   "metadata": {},
   "source": [
    "**Indices in Python begin with 0!**"
   ]
  },
  {
   "cell_type": "code",
   "execution_count": null,
   "metadata": {},
   "outputs": [],
   "source": [
    "numbers[0]"
   ]
  },
  {
   "cell_type": "code",
   "execution_count": null,
   "metadata": {},
   "outputs": [],
   "source": [
    "numbers[-1]"
   ]
  },
  {
   "cell_type": "markdown",
   "metadata": {},
   "source": [
    "Python `list`s are mutable:"
   ]
  },
  {
   "cell_type": "code",
   "execution_count": null,
   "metadata": {},
   "outputs": [],
   "source": [
    "numbers[1] = 100\n",
    "numbers"
   ]
  },
  {
   "cell_type": "markdown",
   "metadata": {},
   "source": [
    "Slicing lists:"
   ]
  },
  {
   "cell_type": "code",
   "execution_count": null,
   "metadata": {},
   "outputs": [],
   "source": [
    "numbers[:3]"
   ]
  },
  {
   "cell_type": "code",
   "execution_count": null,
   "metadata": {},
   "outputs": [],
   "source": [
    "numbers[:3] = (1, 2, 3, 4)\n",
    "numbers"
   ]
  },
  {
   "cell_type": "markdown",
   "metadata": {},
   "source": [
    "Python **tuples**: \"immutable lists\""
   ]
  },
  {
   "cell_type": "code",
   "execution_count": null,
   "metadata": {},
   "outputs": [],
   "source": [
    "integers = (1, 2, 3, 4)\n",
    "type(integers)"
   ]
  },
  {
   "cell_type": "code",
   "execution_count": null,
   "metadata": {},
   "outputs": [],
   "source": [
    "integers[0] = -1"
   ]
  },
  {
   "cell_type": "markdown",
   "metadata": {},
   "source": [
    "A `tuple` with a single element:"
   ]
  },
  {
   "cell_type": "code",
   "execution_count": null,
   "metadata": {},
   "outputs": [],
   "source": [
    "one = 1,\n",
    "type(one)"
   ]
  },
  {
   "cell_type": "markdown",
   "metadata": {},
   "source": [
    "---"
   ]
  },
  {
   "cell_type": "markdown",
   "metadata": {},
   "source": [
    "**Membership operator:**\n",
    "* `in`"
   ]
  },
  {
   "cell_type": "code",
   "execution_count": null,
   "metadata": {},
   "outputs": [],
   "source": [
    "3 in integers"
   ]
  },
  {
   "cell_type": "code",
   "execution_count": null,
   "metadata": {},
   "outputs": [],
   "source": [
    "16 not in numbers"
   ]
  },
  {
   "cell_type": "markdown",
   "metadata": {},
   "source": [
    "**Python lists can hold arbitrary data**"
   ]
  },
  {
   "cell_type": "code",
   "execution_count": null,
   "metadata": {},
   "outputs": [],
   "source": [
    "objects = [1, 'two', (1, 2, 3)]\n",
    "len(objects)"
   ]
  },
  {
   "cell_type": "markdown",
   "metadata": {},
   "source": [
    "---"
   ]
  },
  {
   "cell_type": "markdown",
   "metadata": {},
   "source": [
    "## Representing text in Python"
   ]
  },
  {
   "cell_type": "code",
   "execution_count": null,
   "metadata": {},
   "outputs": [],
   "source": [
    "word = \"Hello\"\n",
    "type(word)"
   ]
  },
  {
   "cell_type": "code",
   "execution_count": null,
   "metadata": {},
   "outputs": [],
   "source": [
    "another_word = 'world'"
   ]
  },
  {
   "cell_type": "code",
   "execution_count": null,
   "metadata": {},
   "outputs": [],
   "source": [
    "sentence = ', '.join((word, another_word)) + '!'\n",
    "print(sentence)"
   ]
  },
  {
   "cell_type": "code",
   "execution_count": null,
   "metadata": {},
   "outputs": [],
   "source": [
    "sentence.replace('o', '0')"
   ]
  },
  {
   "cell_type": "markdown",
   "metadata": {},
   "source": [
    "**String literals:**\n",
    "\n",
    "* `\\t` horizontal tab\n",
    "* `\\n` new line\n",
    "* `\\r` carriage return\n",
    "* `\\b` backspace\n",
    "* `\\\\` backslash"
   ]
  },
  {
   "cell_type": "code",
   "execution_count": null,
   "metadata": {},
   "outputs": [],
   "source": [
    "print('line 1' + '\\n' + 'line 2')"
   ]
  },
  {
   "cell_type": "code",
   "execution_count": null,
   "metadata": {},
   "outputs": [],
   "source": [
    "print('colum 1' + '\\t\\t' + 'column 3')"
   ]
  },
  {
   "cell_type": "code",
   "execution_count": null,
   "metadata": {},
   "outputs": [],
   "source": [
    "print('A mistaJ\\bke.')"
   ]
  },
  {
   "cell_type": "markdown",
   "metadata": {},
   "source": [
    "---"
   ]
  },
  {
   "cell_type": "markdown",
   "metadata": {},
   "source": [
    "## Python dictionaries"
   ]
  },
  {
   "cell_type": "markdown",
   "metadata": {},
   "source": [
    "A Python `dict` is a good way of representing labelled data in Python:"
   ]
  },
  {
   "cell_type": "code",
   "execution_count": null,
   "metadata": {},
   "outputs": [],
   "source": [
    "first_dictionary = {\n",
    "    'item 1': (1, 2, 3),\n",
    "    'item 2': -15.5\n",
    "}"
   ]
  },
  {
   "cell_type": "markdown",
   "metadata": {},
   "source": [
    "The values in a dictionary are accessed by ther corresponding keys:"
   ]
  },
  {
   "cell_type": "code",
   "execution_count": null,
   "metadata": {},
   "outputs": [],
   "source": [
    "first_dictionary['item 1']"
   ]
  },
  {
   "cell_type": "markdown",
   "metadata": {},
   "source": [
    "Any [hashable](https://docs.python.org/3/glossary.html#term-hashable) (immutable) object can be used as a dictionary key:"
   ]
  },
  {
   "cell_type": "code",
   "execution_count": null,
   "metadata": {},
   "outputs": [],
   "source": [
    "hashable = {\n",
    "    (1, 2): 'one, two',\n",
    "    '3, 4': 'three, four'\n",
    "}"
   ]
  },
  {
   "cell_type": "markdown",
   "metadata": {},
   "source": [
    "## Error handling basics"
   ]
  },
  {
   "cell_type": "code",
   "execution_count": null,
   "metadata": {},
   "outputs": [],
   "source": [
    "try:\n",
    "    unhashable = {\n",
    "        [1, 2]: 'one, two',\n",
    "        '3, 4': 'three, four'\n",
    "    }\n",
    "except TypeError as e:\n",
    "    print(e)"
   ]
  },
  {
   "cell_type": "markdown",
   "metadata": {},
   "source": [
    "## Functions"
   ]
  },
  {
   "cell_type": "markdown",
   "metadata": {},
   "source": [
    "Defining our own functions is easy in Python:"
   ]
  },
  {
   "cell_type": "code",
   "execution_count": null,
   "metadata": {},
   "outputs": [],
   "source": [
    "def first_function(a, b, c=1):\n",
    "    \"\"\"\n",
    "    A simple function that accepts 3 numbers and calculates \n",
    "    their product.\n",
    "    \n",
    "    Parameters\n",
    "    ----------\n",
    "    a : int\n",
    "        The first number.\n",
    "    b : int\n",
    "        The second number.\n",
    "    c : int\n",
    "        The third number.\n",
    "\n",
    "    Returns\n",
    "    -------\n",
    "    int\n",
    "        The product of the three numbers.\n",
    "    \"\"\"\n",
    "    \n",
    "    print(f'a: {a}')\n",
    "    print(f'b: {b}')\n",
    "    print(f'c: {c}')\n",
    "    \n",
    "    return a*b*c"
   ]
  },
  {
   "cell_type": "markdown",
   "metadata": {},
   "source": [
    "Note: There are multiple widely accepted docstring style formats. The one shown above is the [NumPy/SciPy](https://numpydoc.readthedocs.io/en/latest/format.html#) style."
   ]
  },
  {
   "cell_type": "markdown",
   "metadata": {},
   "source": [
    "There are two ways of passing arguments to a function: by *position*:"
   ]
  },
  {
   "cell_type": "code",
   "execution_count": null,
   "metadata": {},
   "outputs": [],
   "source": [
    "first_function(1, 2, 3)"
   ]
  },
  {
   "cell_type": "markdown",
   "metadata": {},
   "source": [
    "And by *keyword* (note: the order of the passed keyword arguments is insignificant):"
   ]
  },
  {
   "cell_type": "code",
   "execution_count": null,
   "metadata": {},
   "outputs": [],
   "source": [
    "first_function(a=2, c=3, b=1)"
   ]
  },
  {
   "cell_type": "markdown",
   "metadata": {},
   "source": [
    "You can also mix the two (note: any positional arguments must *always* come before any keyword arguments):"
   ]
  },
  {
   "cell_type": "code",
   "execution_count": null,
   "metadata": {},
   "outputs": [],
   "source": [
    "first_function(2, c=4, b=5)"
   ]
  },
  {
   "cell_type": "markdown",
   "metadata": {},
   "source": [
    "The parameter `c` has a *default* value defined (`c=1`) in the function definition - it is not required:"
   ]
  },
  {
   "cell_type": "code",
   "execution_count": null,
   "metadata": {},
   "outputs": [],
   "source": [
    "first_function(5, b=2)"
   ]
  },
  {
   "cell_type": "markdown",
   "metadata": {},
   "source": [
    "You can also define the positional arguments of a function in a `list` or a `tuple` and the keyword arguments into a `dict`, and pass that into the function using `*` and `**`:"
   ]
  },
  {
   "cell_type": "code",
   "execution_count": null,
   "metadata": {},
   "outputs": [],
   "source": [
    "positional_arguments = (3, 2)\n",
    "keyword_arguments = {'c':2}\n",
    "first_function(*positional_arguments, **keyword_arguments)"
   ]
  },
  {
   "cell_type": "markdown",
   "metadata": {},
   "source": [
    "---"
   ]
  },
  {
   "cell_type": "markdown",
   "metadata": {},
   "source": [
    "Let's also define a function that calculates the number of pixels in an image:"
   ]
  },
  {
   "cell_type": "code",
   "execution_count": null,
   "metadata": {},
   "outputs": [],
   "source": [
    "import imageio # a library for reading and writing image data\n",
    "\n",
    "import matplotlib.pyplot as plt # a plotting library"
   ]
  },
  {
   "cell_type": "code",
   "execution_count": null,
   "metadata": {},
   "outputs": [],
   "source": [
    "image = imageio.v3.imread('data/image_1.jpg')"
   ]
  },
  {
   "cell_type": "code",
   "execution_count": null,
   "metadata": {},
   "outputs": [],
   "source": [
    "plt.imshow(image, cmap='gray')"
   ]
  },
  {
   "cell_type": "code",
   "execution_count": null,
   "metadata": {},
   "outputs": [],
   "source": [
    "def number_of_pixels(image):\n",
    "    \"\"\"\n",
    "    Calculate and return the number of pixels in an image.\n",
    "    \n",
    "    Parameters\n",
    "    ----------\n",
    "    image : numpy.ndarray\n",
    "        An array of image data.\n",
    "\n",
    "    Returns\n",
    "    -------\n",
    "    int\n",
    "        The number of pixels in the given image.\n",
    "    \"\"\"\n",
    "    \n",
    "    n_pixels = image.shape[0] * image.shape[1]\n",
    "    return n_pixels"
   ]
  },
  {
   "cell_type": "markdown",
   "metadata": {},
   "source": [
    "Let's see our new function in action:"
   ]
  },
  {
   "cell_type": "code",
   "execution_count": null,
   "metadata": {},
   "outputs": [],
   "source": [
    "number_of_pixels(image)"
   ]
  },
  {
   "cell_type": "markdown",
   "metadata": {},
   "source": [
    "---"
   ]
  },
  {
   "cell_type": "markdown",
   "metadata": {},
   "source": [
    "## Control flow"
   ]
  },
  {
   "cell_type": "markdown",
   "metadata": {},
   "source": [
    "### If"
   ]
  },
  {
   "cell_type": "code",
   "execution_count": null,
   "metadata": {},
   "outputs": [],
   "source": [
    "image = imageio.v3.imread('data/image_2.jpg')\n",
    "n_pixels = number_of_pixels(image)\n",
    "n_pixels"
   ]
  },
  {
   "cell_type": "code",
   "execution_count": null,
   "metadata": {},
   "outputs": [],
   "source": [
    "plt.imshow(image, cmap='gray')"
   ]
  },
  {
   "cell_type": "code",
   "execution_count": null,
   "metadata": {},
   "outputs": [],
   "source": [
    "n_pixels = number_of_pixels(image)\n",
    "print(f'Number of pixels in read image: {n_pixels}')\n",
    "\n",
    "if n_pixels < 10000:\n",
    "    print('This image is too small!')\n",
    "elif n_pixels >= 10000 and n_pixels < 20000:\n",
    "    print('This image is just right!')\n",
    "    plt.imshow(image, cmap='gray')\n",
    "else:\n",
    "    print('This image is very large! Attempting decimation...')\n",
    "    image = image[::2, ::2]    "
   ]
  },
  {
   "cell_type": "markdown",
   "metadata": {},
   "source": [
    "### For"
   ]
  },
  {
   "cell_type": "markdown",
   "metadata": {},
   "source": [
    "Python's `for` loops work by iterating over [*iterables*](https://docs.python.org/3/glossary.html#term-iterable) (lists, strings, dictionaries):"
   ]
  },
  {
   "cell_type": "code",
   "execution_count": null,
   "metadata": {},
   "outputs": [],
   "source": [
    "numbers = [1, 2, 3.5, 5-1j]\n",
    "numbers"
   ]
  },
  {
   "cell_type": "code",
   "execution_count": null,
   "metadata": {},
   "outputs": [],
   "source": [
    "for number in numbers:\n",
    "    print(-2*number)"
   ]
  },
  {
   "cell_type": "markdown",
   "metadata": {},
   "source": [
    "You will often see `for` loops used together with the `range()` function, in cases where we want a specific number of iterations:"
   ]
  },
  {
   "cell_type": "code",
   "execution_count": null,
   "metadata": {},
   "outputs": [],
   "source": [
    "for i in range(10):\n",
    "    print('iteration ' + str(i))"
   ]
  },
  {
   "cell_type": "markdown",
   "metadata": {},
   "source": [
    "There is nothing special going on here, the `range(N)` function simply returns an iterable of the first `N` natural numbers:"
   ]
  },
  {
   "cell_type": "code",
   "execution_count": null,
   "metadata": {},
   "outputs": [],
   "source": [
    "list(range(10))"
   ]
  },
  {
   "cell_type": "markdown",
   "metadata": {},
   "source": [
    "A `for` loop used with a multidimensional array (a matrix) only iterates over the `rows` of the array. \n",
    "\n",
    "Let's see how many rows in our image are completely white:"
   ]
  },
  {
   "cell_type": "code",
   "execution_count": null,
   "metadata": {},
   "outputs": [],
   "source": [
    "image.shape"
   ]
  },
  {
   "cell_type": "code",
   "execution_count": null,
   "metadata": {},
   "outputs": [],
   "source": [
    "white_rows = []\n",
    "\n",
    "for i, row in enumerate(image):\n",
    "    if sum(row) == image.shape[1] * 255:\n",
    "        white_rows.append(i)\n",
    "\n",
    "len(white_rows)"
   ]
  },
  {
   "cell_type": "markdown",
   "metadata": {},
   "source": [
    "If we only wanted to keep the non-white rows of our image:"
   ]
  },
  {
   "cell_type": "code",
   "execution_count": null,
   "metadata": {},
   "outputs": [],
   "source": [
    "non_white_image = []\n",
    "\n",
    "for i, row in enumerate(image):\n",
    "    if i not in white_rows:\n",
    "        non_white_image.append(row)\n",
    "        \n",
    "plt.imshow(non_white_image, cmap='gray')"
   ]
  },
  {
   "cell_type": "markdown",
   "metadata": {},
   "source": [
    "**break**"
   ]
  },
  {
   "cell_type": "markdown",
   "metadata": {},
   "source": [
    "A `for` loop automatically iterates over all the elements of an iterable.\n",
    "\n",
    "We can use the `break` statement to stop the iteration manually:"
   ]
  },
  {
   "cell_type": "code",
   "execution_count": null,
   "metadata": {},
   "outputs": [],
   "source": [
    "numbers"
   ]
  },
  {
   "cell_type": "code",
   "execution_count": null,
   "metadata": {},
   "outputs": [],
   "source": [
    "for n in numbers:\n",
    "    if type(n) != complex:\n",
    "        print(n)\n",
    "    else:\n",
    "        break"
   ]
  },
  {
   "cell_type": "markdown",
   "metadata": {},
   "source": [
    "Using a `for` loop on a `dict` we iterate over the dictionary's keys:"
   ]
  },
  {
   "cell_type": "code",
   "execution_count": null,
   "metadata": {},
   "outputs": [],
   "source": [
    "numbers_to_words = {\n",
    "    1: 'one',\n",
    "    2: 'two',\n",
    "    3: 'three'\n",
    "}"
   ]
  },
  {
   "cell_type": "code",
   "execution_count": null,
   "metadata": {},
   "outputs": [],
   "source": [
    "for n in numbers_to_words:\n",
    "    if n in numbers:\n",
    "        print(n, numbers_to_words[n])"
   ]
  },
  {
   "cell_type": "markdown",
   "metadata": {},
   "source": [
    "But there is another way:"
   ]
  },
  {
   "cell_type": "code",
   "execution_count": null,
   "metadata": {},
   "outputs": [],
   "source": [
    "for n, word in numbers_to_words.items():\n",
    "    if n in numbers:\n",
    "        print(n, word)"
   ]
  },
  {
   "cell_type": "markdown",
   "metadata": {},
   "source": [
    "**List comprehension**"
   ]
  },
  {
   "cell_type": "markdown",
   "metadata": {},
   "source": [
    "*Appending elements to a previusly empty `list` in a `for` loop* can be done very concisely with list comprehension.\n",
    "\n",
    "Let's only keep the very dark rows of our image in this example:"
   ]
  },
  {
   "cell_type": "code",
   "execution_count": null,
   "metadata": {},
   "outputs": [],
   "source": [
    "dark_image = [row for row in image if (sum(row) < image.shape[1] * 255 * 0.5)]\n",
    "\n",
    "plt.imshow(dark_image, cmap='gray')"
   ]
  },
  {
   "cell_type": "markdown",
   "metadata": {},
   "source": [
    "List comprehension syntax can be summarized as follows:\n",
    "\n",
    "```python\n",
    "[<value appended to list> for <value> in <iterable> if <condition on value>]\n",
    "```"
   ]
  },
  {
   "cell_type": "markdown",
   "metadata": {},
   "source": [
    "---"
   ]
  },
  {
   "cell_type": "markdown",
   "metadata": {},
   "source": [
    "### While\n",
    "\n",
    "With `while` loops we can perform an action until a condition is no longer satisfied."
   ]
  },
  {
   "cell_type": "markdown",
   "metadata": {},
   "source": [
    "In this example, let's keep decimating an image until its size is sufficiently small:"
   ]
  },
  {
   "cell_type": "code",
   "execution_count": null,
   "metadata": {},
   "outputs": [],
   "source": [
    "image = imageio.v3.imread('data/image_2.jpg')\n",
    "number_of_pixels(image)"
   ]
  },
  {
   "cell_type": "code",
   "execution_count": null,
   "metadata": {},
   "outputs": [],
   "source": [
    "while number_of_pixels(image) > 5000:\n",
    "    print('This image is large! Attempting decimation...')\n",
    "    image = image[::2, ::2]\n",
    "    print(f'New number of pixels in the image: {number_of_pixels(image)}\\n')\n",
    "else:\n",
    "    plt.imshow(image, cmap='gray')"
   ]
  },
  {
   "cell_type": "markdown",
   "metadata": {},
   "source": [
    "# Numpy-Style Docstrings"
   ]
  },
  {
   "cell_type": "markdown",
   "metadata": {},
   "source": [
    "Numpy-style docstrings are a convention of writing docstrings that originated from the NumPy library, but are widely used in various Python projects for their clarity and readability. These docstrings offer a consistent and easy-to-read structure, making the code documentation comprehensive and accessible.\n",
    "\n",
    "#### Components:\n",
    "\n",
    "A typical Numpy-style docstring is divided into several sections, each serving a distinct purpose:\n",
    "\n",
    "1. **Short Description:**\n",
    "   - A concise summary that briefly describes the function, method, or class. It should be one sentence long and is written on the first line of the docstring.\n",
    "\n",
    "2. **Extended Summary:**\n",
    "    - (Optional) A more detailed description that elaborates on the functionality, providing additional context if necessary.\n",
    "\n",
    "3. **Parameters:**\n",
    "    - A list of the parameters, their expected types, and a brief description of each.\n",
    "\n",
    "4. **Returns:**\n",
    "    - Information on the return value(s) including their types and descriptions.\n",
    "\n",
    "5. **Raises:**\n",
    "    - (Optional) A list of exceptions that the function/method is known to raise, along with the conditions under which they are raised.\n",
    "\n",
    "6. **Examples:**\n",
    "    - (Optional) Example usage of the function/method to illustrate how it works in practice."
   ]
  },
  {
   "cell_type": "markdown",
   "metadata": {},
   "source": [
    "#### Example:\n",
    "\n",
    "Here is an example of a Numpy-style docstring for a hypothetical function:"
   ]
  },
  {
   "cell_type": "code",
   "execution_count": null,
   "metadata": {},
   "outputs": [],
   "source": [
    "def add(a: int, b: int) -> int:\n",
    "    \"\"\"\n",
    "    Calculate the sum of two integers.\n",
    "\n",
    "    Extended description: This function takes two integers and returns their sum. The inputs must be integers; otherwise,\n",
    "    a TypeError will be raised.\n",
    "\n",
    "    Parameters\n",
    "    ----------\n",
    "    a : int\n",
    "        The first integer to be added.\n",
    "    b : int\n",
    "        The second integer to be added.\n",
    "\n",
    "    Returns\n",
    "    -------\n",
    "    int\n",
    "        The sum of the two input integers.\n",
    "\n",
    "    Raises\n",
    "    ------\n",
    "    TypeError\n",
    "        If either of the inputs is not an integer.\n",
    "\n",
    "    Examples\n",
    "    --------\n",
    "    >>> add(2, 3)\n",
    "    5\n",
    "    >>> add(-1, 5)\n",
    "    4\n",
    "    \"\"\"\n",
    "    if not all(isinstance(i, int) for i in (a, b)):\n",
    "        raise TypeError(\"Both inputs must be integers\")\n",
    "    \n",
    "    return a + b"
   ]
  },
  {
   "cell_type": "markdown",
   "metadata": {},
   "source": [
    "### Benefits:\n",
    "\n",
    "**Clarity:**\n",
    "- Provides a clear, organized structure making the code easily understandable.\n",
    "\n",
    "**Comprehensiveness:**\n",
    "- Ensures that all aspects, including parameters, return values, exceptions, and examples, are well-documented.\n",
    "\n",
    "**Consistency:**\n",
    "- Aids in maintaining a consistent documentation style across different parts of the project or team.\n",
    "\n",
    "Numpy-style docstrings are a valuable tool for any developer, ensuring that code is well-documented, readable, and maintainable, which is essential in collaborative and complex projects."
   ]
  },
  {
   "cell_type": "markdown",
   "metadata": {},
   "source": [
    "# Type hinting"
   ]
  },
  {
   "cell_type": "markdown",
   "metadata": {},
   "source": [
    "Type hinting is the practice of annotating variables, function parameters, and return values with their expected types. \n",
    "\n",
    "Introduced in **Python 3.5** via [PEP 484](https://peps.python.org/pep-0484/), type hints make the code more readable and self-documenting, while also enabling better tooling support."
   ]
  },
  {
   "cell_type": "markdown",
   "metadata": {},
   "source": [
    "Syntax example:"
   ]
  },
  {
   "cell_type": "code",
   "execution_count": null,
   "metadata": {},
   "outputs": [],
   "source": [
    "def greet(name: str, age: int) -> str:\n",
    "    return f\"Hello, {name}! You are {age} years old.\""
   ]
  },
  {
   "cell_type": "markdown",
   "metadata": {},
   "source": [
    "In this example, `name` is expected to be of type `str`, `age` is expected to be of type `int`, and the `function` is expected to return a `str`."
   ]
  },
  {
   "cell_type": "markdown",
   "metadata": {},
   "source": [
    "\n",
    "## Advantages of Type Hinting:\n",
    "\n",
    "**Readability:**\n",
    "\n",
    "- Type hints make the code more readable, allowing developers to quickly understand the types of values expected and returned by functions, leading to faster comprehension of the code.\n",
    "\n",
    "**Tool Support:**\n",
    "\n",
    "- Many IDEs and linters support type hints, offering auto-completion, type checking, and other features that make development faster and less error-prone.\n",
    "\n",
    "**Reduced Errors:**\n",
    "\n",
    "- By specifying expected types, developers can catch potential type errors before runtime, leading to more robust and error-free code.\n",
    "\n",
    "**Collaboration:**\n",
    "\n",
    "- In a team setting, type hints serve as a form of documentation, making it easier for collaborators to understand and work with each other’s code without extensive comments or documentation.\n",
    "\n",
    "**Self-documenting Code:**\n",
    "\n",
    "- The code becomes self-documenting. When functions and variables are annotated with type hints, new readers of the code can easily understand the expected input and output types, reducing the need for additional comments or documentation.\n",
    "    \n",
    "Implementing type hinting in your Python package enhances code quality, readability, and developer productivity, making it especially beneficial for complex or collaborative projects in the industrial sector.\n",
    "\n",
    "\n",
    "\n",
    "\n",
    "\n"
   ]
  },
  {
   "cell_type": "markdown",
   "metadata": {},
   "source": [
    "# Modules"
   ]
  },
  {
   "cell_type": "code",
   "execution_count": null,
   "metadata": {
    "vscode": {
     "languageId": "plaintext"
    }
   },
   "outputs": [],
   "source": []
  }
 ],
 "metadata": {
  "kernelspec": {
   "display_name": "venv",
   "language": "python",
   "name": "python3"
  },
  "language_info": {
   "name": "python",
   "version": "3.10.0"
  }
 },
 "nbformat": 4,
 "nbformat_minor": 2
}
