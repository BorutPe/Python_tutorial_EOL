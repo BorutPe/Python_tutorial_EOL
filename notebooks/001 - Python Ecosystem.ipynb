{
 "cells": [
  {
   "cell_type": "markdown",
   "metadata": {},
   "source": [
    "# Introduction to Python"
   ]
  },
  {
   "cell_type": "markdown",
   "metadata": {},
   "source": [
    "## Why python?\n",
    "* **Open-source**, governed by [The Python Software Foundation](https://www.python.org/psf-landing/),\n",
    "* simple syntax, similar to MatLab,\n",
    "* customizable (currently over 450,000 packages),\n",
    "* steep growth in popularity in recent years,\n",
    "* *interpreted*, *dynamically typed*, general purpose programming language."
   ]
  },
  {
   "cell_type": "markdown",
   "metadata": {},
   "source": [
    "## Python Enhancement Proposals"
   ]
  },
  {
   "cell_type": "markdown",
   "metadata": {},
   "source": [
    "The Python *language structure*, *government system*, as well as *feature definitions, proposals* and *programming guidelines* are all defined by the so-called [PEP-s](https://www.python.org/dev/peps/).\n",
    "\n",
    "Some of the most important Python Enhancement Proposals are:\n",
    "\n",
    "* [PEP 8](https://www.python.org/dev/peps/pep-0008/): Style guide for Python code,\n",
    "* [PEP 20](https://www.python.org/dev/peps/pep-0020/): \"The Zen of Python\",\n",
    "* [PEP 257](https://www.python.org/dev/peps/pep-0257/): Docstring convention."
   ]
  },
  {
   "cell_type": "markdown",
   "metadata": {},
   "source": [
    "## Programing environments"
   ]
  },
  {
   "cell_type": "markdown",
   "metadata": {},
   "source": [
    "- `.py` files\n",
    "- `.ipynb` files\n",
    "    - Jupyter Notebook\n",
    "    - Individual cells can be executed\n",
    "    - Markdown cells"
   ]
  },
  {
   "cell_type": "markdown",
   "metadata": {},
   "source": [
    "# The Python ecosystem"
   ]
  },
  {
   "cell_type": "markdown",
   "metadata": {},
   "source": [
    "## Virtual environments"
   ]
  },
  {
   "cell_type": "markdown",
   "metadata": {},
   "source": [
    "Virtual environments are isolated Python environments, which can be used to install packages and run programs without affecting the global Python installation.\n",
    "\n",
    "To create a virtual environment, run the following command in the terminal:\n",
    "\n",
    "```bash\n",
    "py -m -3.11 venv <venv name>\n",
    "```"
   ]
  },
  {
   "cell_type": "code",
   "execution_count": null,
   "metadata": {},
   "outputs": [],
   "source": []
  },
  {
   "cell_type": "markdown",
   "metadata": {},
   "source": [
    "## How to install new packages?"
   ]
  },
  {
   "cell_type": "markdown",
   "metadata": {},
   "source": [
    "Python comes with some very useful features [out of-the-box](https://docs.python.org/3/library/):\n",
    "\n",
    "* numerical and mathematical datatypes and functions,\n",
    "* filesystem management tools,\n",
    "* data compression tools,\n",
    "* support for various networking and internet protocols ([http](https://docs.python.org/3/library/http.html), [email](https://docs.python.org/3/library/email.html), [websockets](https://docs.python.org/3/library/socket.html), ...),\n",
    "text processing and binary data manipulation,\n",
    "* development tools (documentation, unit-testing, ...)\n",
    "* The **[pip package manager](https://pip.pypa.io/en/stable/)**,\n",
    "* ..."
   ]
  },
  {
   "cell_type": "code",
   "execution_count": null,
   "metadata": {},
   "outputs": [
    {
     "name": "stdout",
     "output_type": "stream",
     "text": [
      "Requirement already satisfied: pyfrf in d:\\phdpy\\opensd2023\\.venv\\lib\\site-packages (0.40)\n",
      "Requirement already satisfied: numpy in d:\\phdpy\\opensd2023\\.venv\\lib\\site-packages (from pyfrf) (1.24.3)\n"
     ]
    }
   ],
   "source": [
    "!pip install pyfrf"
   ]
  },
  {
   "cell_type": "code",
   "execution_count": null,
   "metadata": {},
   "outputs": [],
   "source": [
    "!pip freeze > requirements.txt"
   ]
  },
  {
   "cell_type": "markdown",
   "metadata": {},
   "source": [
    "## Essential packages for engineers and scientists"
   ]
  },
  {
   "cell_type": "markdown",
   "metadata": {},
   "source": [
    "### SciPy\n",
    "\n",
    "The [SciPy](https://www.scipy.org/index.html) stack is a collection of open-source Python software for science and engineering. It consists of six core packages:\n",
    "1. Numpy\n",
    "1. Scipy\n",
    "1. Matplotlib\n",
    "1. Pandas\n",
    "1. IPython\n",
    "1. SymPy"
   ]
  },
  {
   "cell_type": "markdown",
   "metadata": {},
   "source": [
    "**[Numpy](http://www.numpy.org/)**: \n",
    "\n",
    "* Adds support for the efficient multidimentional ``ndarray`` data object for numerical data representation. \n",
    "* Functions for *numerical data manipulation*, *linear algebra* and *the Fourier transform*."
   ]
  },
  {
   "cell_type": "code",
   "execution_count": null,
   "metadata": {},
   "outputs": [
    {
     "data": {
      "text/plain": [
       "array([1, 2, 3, 4, 5])"
      ]
     },
     "metadata": {},
     "output_type": "display_data"
    }
   ],
   "source": [
    "import numpy as np\n",
    "\n",
    "L = [1, 2, 3, 4, 5] # This is a list\n",
    "a = np.array(L)     # This is an array\n",
    "a"
   ]
  },
  {
   "cell_type": "markdown",
   "metadata": {},
   "source": [
    "Note the difference:"
   ]
  },
  {
   "cell_type": "code",
   "execution_count": null,
   "metadata": {},
   "outputs": [
    {
     "data": {
      "text/plain": [
       "[1, 2, 3, 4, 5, 1, 2, 3, 4, 5]"
      ]
     },
     "metadata": {},
     "output_type": "display_data"
    }
   ],
   "source": [
    "2*L"
   ]
  },
  {
   "cell_type": "code",
   "execution_count": null,
   "metadata": {},
   "outputs": [
    {
     "data": {
      "text/plain": [
       "array([ 2,  4,  6,  8, 10])"
      ]
     },
     "metadata": {},
     "output_type": "display_data"
    }
   ],
   "source": [
    "2*a"
   ]
  },
  {
   "cell_type": "markdown",
   "metadata": {},
   "source": [
    "A range of numbers:"
   ]
  },
  {
   "cell_type": "code",
   "execution_count": null,
   "metadata": {},
   "outputs": [
    {
     "data": {
      "text/plain": [
       "array([0, 2, 4, 6, 8])"
      ]
     },
     "metadata": {},
     "output_type": "display_data"
    }
   ],
   "source": [
    "a1 = np.arange(0, 10, 2)\n",
    "a1"
   ]
  },
  {
   "cell_type": "markdown",
   "metadata": {},
   "source": [
    "Linearly spaced numbers:"
   ]
  },
  {
   "cell_type": "code",
   "execution_count": null,
   "metadata": {},
   "outputs": [
    {
     "data": {
      "text/plain": [
       "array([ 0.+0.j,  2.+0.j,  4.+0.j,  6.+0.j,  8.+0.j, 10.+0.j])"
      ]
     },
     "metadata": {},
     "output_type": "display_data"
    }
   ],
   "source": [
    "a2 = np.linspace(0, 10, 6, dtype=complex)\n",
    "a2"
   ]
  },
  {
   "cell_type": "markdown",
   "metadata": {},
   "source": [
    "Multidimensional arrays are supported:"
   ]
  },
  {
   "cell_type": "code",
   "execution_count": null,
   "metadata": {},
   "outputs": [
    {
     "data": {
      "text/plain": [
       "array([[0.97951116, 0.06039003, 0.7904914 ],\n",
       "       [0.55685639, 0.39565416, 0.20475656],\n",
       "       [0.15483843, 0.19890061, 0.22732108]])"
      ]
     },
     "metadata": {},
     "output_type": "display_data"
    }
   ],
   "source": [
    "M = np.random.rand(3, 3) # This is a matrix\n",
    "M"
   ]
  },
  {
   "cell_type": "markdown",
   "metadata": {},
   "source": [
    "**[Matplotlib](https://matplotlib.org/)**:\n",
    "\n",
    "* A plotting library for producing publication-ready data visualizations.\n",
    "* A MATLAB-inspired user interface.\n"
   ]
  },
  {
   "cell_type": "code",
   "execution_count": null,
   "metadata": {},
   "outputs": [
    {
     "data": {
      "image/png": "[encoded data removed]",
      "text/plain": [
       "<Figure size 640x480 with 1 Axes>"
      ]
     },
     "metadata": {},
     "output_type": "display_data"
    }
   ],
   "source": [
    "import matplotlib.pyplot as plt\n",
    "\n",
    "x = np.linspace(0, 1, 50) # x coordinates\n",
    "y1 = np.sin(2*np.pi*2*x)   # y coordinates\n",
    "y2 = np.cos(2*np.pi*2*x)   # y coordinates\n",
    "\n",
    "plt.plot(x, y1, 'ro', label='sin')\n",
    "plt.plot(x, y2, 'bo', label='cos')\n",
    "plt.legend()\n",
    "plt.xlabel('x')\n",
    "plt.ylabel('y')\n",
    "plt.title('Sin and Cos')\n",
    "plt.grid(True)"
   ]
  },
  {
   "cell_type": "markdown",
   "metadata": {},
   "source": [
    "**[Pandas](http://pandas.pydata.org/)**:\n",
    "\n",
    "* Reading, manpulating and writing *tabular data*.\n",
    "* Interfaces to *.csv*, *MS Excel* data formats. "
   ]
  },
  {
   "cell_type": "code",
   "execution_count": null,
   "metadata": {},
   "outputs": [
    {
     "data": {
      "text/html": [
       "<div>\n",
       "<style scoped>\n",
       "    .dataframe tbody tr th:only-of-type {\n",
       "        vertical-align: middle;\n",
       "    }\n",
       "\n",
       "    .dataframe tbody tr th {\n",
       "        vertical-align: top;\n",
       "    }\n",
       "\n",
       "    .dataframe thead th {\n",
       "        text-align: right;\n",
       "    }\n",
       "</style>\n",
       "<table border=\"1\" class=\"dataframe\">\n",
       "  <thead>\n",
       "    <tr style=\"text-align: right;\">\n",
       "      <th></th>\n",
       "      <th>First</th>\n",
       "      <th>Second</th>\n",
       "      <th>Third</th>\n",
       "    </tr>\n",
       "  </thead>\n",
       "  <tbody>\n",
       "    <tr>\n",
       "      <th>0</th>\n",
       "      <td>4</td>\n",
       "      <td>10</td>\n",
       "      <td>100</td>\n",
       "    </tr>\n",
       "    <tr>\n",
       "      <th>1</th>\n",
       "      <td>5</td>\n",
       "      <td>20</td>\n",
       "      <td>50</td>\n",
       "    </tr>\n",
       "    <tr>\n",
       "      <th>2</th>\n",
       "      <td>6</td>\n",
       "      <td>30</td>\n",
       "      <td>-30</td>\n",
       "    </tr>\n",
       "    <tr>\n",
       "      <th>3</th>\n",
       "      <td>7</td>\n",
       "      <td>40</td>\n",
       "      <td>-50</td>\n",
       "    </tr>\n",
       "  </tbody>\n",
       "</table>\n",
       "</div>"
      ],
      "text/plain": [
       "   First  Second  Third\n",
       "0      4      10    100\n",
       "1      5      20     50\n",
       "2      6      30    -30\n",
       "3      7      40    -50"
      ]
     },
     "metadata": {},
     "output_type": "display_data"
    }
   ],
   "source": [
    "import pandas as pd\n",
    "\n",
    "df = pd.DataFrame({'First': [4, 5, 6, 7],\n",
    "                    'Second': [10, 20, 30, 40],\n",
    "                    'Third': [100, 50, -30, -50]})\n",
    "df"
   ]
  },
  {
   "cell_type": "code",
   "execution_count": null,
   "metadata": {},
   "outputs": [],
   "source": [
    "df.to_csv('data_frame.csv', index=False) # write to csv file, ignore row names"
   ]
  },
  {
   "cell_type": "code",
   "execution_count": null,
   "metadata": {},
   "outputs": [
    {
     "data": {
      "text/html": [
       "<div>\n",
       "<style scoped>\n",
       "    .dataframe tbody tr th:only-of-type {\n",
       "        vertical-align: middle;\n",
       "    }\n",
       "\n",
       "    .dataframe tbody tr th {\n",
       "        vertical-align: top;\n",
       "    }\n",
       "\n",
       "    .dataframe thead th {\n",
       "        text-align: right;\n",
       "    }\n",
       "</style>\n",
       "<table border=\"1\" class=\"dataframe\">\n",
       "  <thead>\n",
       "    <tr style=\"text-align: right;\">\n",
       "      <th></th>\n",
       "      <th>First</th>\n",
       "      <th>Second</th>\n",
       "      <th>Third</th>\n",
       "    </tr>\n",
       "  </thead>\n",
       "  <tbody>\n",
       "    <tr>\n",
       "      <th>0</th>\n",
       "      <td>4</td>\n",
       "      <td>10</td>\n",
       "      <td>100</td>\n",
       "    </tr>\n",
       "    <tr>\n",
       "      <th>1</th>\n",
       "      <td>5</td>\n",
       "      <td>20</td>\n",
       "      <td>50</td>\n",
       "    </tr>\n",
       "    <tr>\n",
       "      <th>2</th>\n",
       "      <td>6</td>\n",
       "      <td>30</td>\n",
       "      <td>-30</td>\n",
       "    </tr>\n",
       "    <tr>\n",
       "      <th>3</th>\n",
       "      <td>7</td>\n",
       "      <td>40</td>\n",
       "      <td>-50</td>\n",
       "    </tr>\n",
       "  </tbody>\n",
       "</table>\n",
       "</div>"
      ],
      "text/plain": [
       "   First  Second  Third\n",
       "0      4      10    100\n",
       "1      5      20     50\n",
       "2      6      30    -30\n",
       "3      7      40    -50"
      ]
     },
     "metadata": {},
     "output_type": "display_data"
    }
   ],
   "source": [
    "pd.read_csv('data_frame.csv')"
   ]
  },
  {
   "cell_type": "markdown",
   "metadata": {},
   "source": [
    "**[The SciPy library](https://docs.scipy.org/doc/scipy/reference/)** provides user-friendly and efficient numerical routines for:\n",
    "\n",
    "* Signal processing,\n",
    "* numerical integration,\n",
    "* optimization,\n",
    "* interpolation."
   ]
  },
  {
   "cell_type": "code",
   "execution_count": null,
   "metadata": {},
   "outputs": [
    {
     "data": {
      "text/plain": [
       "<matplotlib.legend.Legend at 0x23a7cf2f7d0>"
      ]
     },
     "metadata": {},
     "output_type": "display_data"
    },
    {
     "data": {
      "image/png": "[encoded data removed]",
      "text/plain": [
       "<Figure size 640x480 with 1 Axes>"
      ]
     },
     "metadata": {},
     "output_type": "display_data"
    }
   ],
   "source": [
    "from scipy.interpolate import InterpolatedUnivariateSpline\n",
    "\n",
    "x_int = np.linspace(0, 1, 1000)\n",
    "spl = InterpolatedUnivariateSpline(x, y1, k=3)\n",
    "\n",
    "plt.plot(x_int, spl(x_int), 'o', label='Interpolated')\n",
    "plt.plot(x, y1, 'o', label='Original')\n",
    "plt.legend()"
   ]
  }
 ],
 "metadata": {
  "language_info": {
   "name": "python"
  }
 },
 "nbformat": 4,
 "nbformat_minor": 2
}
